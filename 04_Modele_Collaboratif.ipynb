{
  "nbformat": 4,
  "nbformat_minor": 0,
  "metadata": {
    "colab": {
      "provenance": []
    },
    "kernelspec": {
      "name": "python3",
      "display_name": "Python 3"
    },
    "language_info": {
      "name": "python"
    }
  },
  "cells": [
    {
      "cell_type": "code",
      "source": [
        "print(\"🔗 Connexion à Google Drive...\")\n",
        "from google.colab import drive\n",
        "drive.mount('/content/drive')\n",
        "print(\"✅ Google Drive monté avec succès\")\n",
        "\n",
        "import os\n",
        "from pathlib import Path\n",
        "\n",
        "print(\"\\n📁 Configuration des chemins de travail...\")\n",
        "\n",
        "# Chemins principaux\n",
        "BASE_PATH = \"/content/drive/MyDrive/PSL/00-RecommanderSystem/h2m-recsys\"\n",
        "DATA_PATH = f\"{BASE_PATH}/data\"\n",
        "OUTPUTS_PATH = f\"{BASE_PATH}/outputs\""
      ],
      "metadata": {
        "colab": {
          "base_uri": "https://localhost:8080/"
        },
        "id": "SBT-FtZf56I1",
        "outputId": "1b856615-1fcd-4ca0-dae6-8064479fa24c"
      },
      "execution_count": 1,
      "outputs": [
        {
          "output_type": "stream",
          "name": "stdout",
          "text": [
            "🔗 Connexion à Google Drive...\n",
            "Mounted at /content/drive\n",
            "✅ Google Drive monté avec succès\n",
            "\n",
            "📁 Configuration des chemins de travail...\n"
          ]
        }
      ]
    },
    {
      "cell_type": "markdown",
      "source": [
        "# 🤝 Modèle Collaboratif avec LightFM\n",
        "\n",
        "\n",
        "**Objectif :** Premier modèle de recommandation basé uniquement sur les interactions user-item\n",
        "- Installation et configuration LightFM\n",
        "- Entraînement modèle collaboratif\n",
        "- Tests des loss functions (WARP, BPR, Logistic)\n",
        "- Évaluation métriques de base\n",
        "\n",
        "---"
      ],
      "metadata": {
        "id": "J_oTjCxyDGYk"
      }
    },
    {
      "cell_type": "markdown",
      "source": [
        "## 🔧 INSTALLATION ET IMPORTS\n"
      ],
      "metadata": {
        "id": "36eP69vHDw-B"
      }
    },
    {
      "cell_type": "code",
      "source": [
        "!pip install git+https://github.com/daviddavo/lightfm"
      ],
      "metadata": {
        "colab": {
          "base_uri": "https://localhost:8080/"
        },
        "id": "pc6QKm5uSWzz",
        "outputId": "844005a3-ea5b-45eb-be25-a32cdd76d75d"
      },
      "execution_count": 2,
      "outputs": [
        {
          "output_type": "stream",
          "name": "stdout",
          "text": [
            "Collecting git+https://github.com/daviddavo/lightfm\n",
            "  Cloning https://github.com/daviddavo/lightfm to /tmp/pip-req-build-try0853n\n",
            "  Running command git clone --filter=blob:none --quiet https://github.com/daviddavo/lightfm /tmp/pip-req-build-try0853n\n",
            "  Resolved https://github.com/daviddavo/lightfm to commit f0eb500ead54ab65eb8e1b3890337a7223a35114\n",
            "  Preparing metadata (setup.py) ... \u001b[?25l\u001b[?25hdone\n",
            "Requirement already satisfied: numpy in /usr/local/lib/python3.12/dist-packages (from lightfm==1.17) (2.0.2)\n",
            "Requirement already satisfied: scipy>=0.17.0 in /usr/local/lib/python3.12/dist-packages (from lightfm==1.17) (1.16.1)\n",
            "Requirement already satisfied: requests in /usr/local/lib/python3.12/dist-packages (from lightfm==1.17) (2.32.4)\n",
            "Requirement already satisfied: scikit-learn in /usr/local/lib/python3.12/dist-packages (from lightfm==1.17) (1.6.1)\n",
            "Requirement already satisfied: charset_normalizer<4,>=2 in /usr/local/lib/python3.12/dist-packages (from requests->lightfm==1.17) (3.4.3)\n",
            "Requirement already satisfied: idna<4,>=2.5 in /usr/local/lib/python3.12/dist-packages (from requests->lightfm==1.17) (3.10)\n",
            "Requirement already satisfied: urllib3<3,>=1.21.1 in /usr/local/lib/python3.12/dist-packages (from requests->lightfm==1.17) (2.5.0)\n",
            "Requirement already satisfied: certifi>=2017.4.17 in /usr/local/lib/python3.12/dist-packages (from requests->lightfm==1.17) (2025.8.3)\n",
            "Requirement already satisfied: joblib>=1.2.0 in /usr/local/lib/python3.12/dist-packages (from scikit-learn->lightfm==1.17) (1.5.2)\n",
            "Requirement already satisfied: threadpoolctl>=3.1.0 in /usr/local/lib/python3.12/dist-packages (from scikit-learn->lightfm==1.17) (3.6.0)\n",
            "Building wheels for collected packages: lightfm\n",
            "  Building wheel for lightfm (setup.py) ... \u001b[?25l\u001b[?25hdone\n",
            "  Created wheel for lightfm: filename=lightfm-1.17-cp312-cp312-linux_x86_64.whl size=1099142 sha256=2a53345dedf9b16ade13191018c250d6cc4104bbc5b91219ec44a9696e03546e\n",
            "  Stored in directory: /tmp/pip-ephem-wheel-cache-orfzg1_y/wheels/fd/89/93/70c1e5f378ee5043de89387ee3ef6852ff39e3b9eb44ecc1a3\n",
            "Successfully built lightfm\n",
            "Installing collected packages: lightfm\n",
            "Successfully installed lightfm-1.17\n"
          ]
        }
      ]
    },
    {
      "cell_type": "markdown",
      "source": [
        "## 🔧 INSTALLATION ET IMPORTS\n"
      ],
      "metadata": {
        "id": "1f9Xb77kzL8D"
      }
    },
    {
      "cell_type": "code",
      "source": [
        "import pickle\n",
        "import pandas as pd\n",
        "import numpy as np\n",
        "import matplotlib.pyplot as plt\n",
        "from lightfm import LightFM\n",
        "from lightfm.evaluation import precision_at_k, recall_at_k, auc_score\n",
        "from lightfm.cross_validation import random_train_test_split\n",
        "import time\n",
        "from tqdm import tqdm\n",
        "import warnings\n",
        "warnings.filterwarnings('ignore')\n",
        "\n",
        "print(\"✅ LightFM installé et importé\")"
      ],
      "metadata": {
        "colab": {
          "base_uri": "https://localhost:8080/"
        },
        "id": "uNrpru_zNfIq",
        "outputId": "cfe08248-c25f-4065-bfa4-c2bc4a73fc30"
      },
      "execution_count": 4,
      "outputs": [
        {
          "output_type": "stream",
          "name": "stdout",
          "text": [
            "✅ LightFM installé et importé\n"
          ]
        }
      ]
    },
    {
      "cell_type": "code",
      "source": [
        "\n",
        "# Redéfinir IDMapper pour le déchargement pickle\n",
        "class IDMapper:\n",
        "    \"\"\"Classe pour mapper IDs vers entiers et vice-versa\"\"\"\n",
        "\n",
        "    def __init__(self, ids):\n",
        "        self.id_to_idx = {id_val: idx for idx, id_val in enumerate(sorted(ids))}\n",
        "        self.idx_to_id = {idx: id_val for id_val, idx in self.id_to_idx.items()}\n",
        "        self.n_items = len(self.id_to_idx)\n",
        "\n",
        "    def map_to_idx(self, ids):\n",
        "        return [self.id_to_idx.get(id_val, -1) for id_val in ids]\n",
        "\n",
        "    def map_to_id(self, indices):\n",
        "        return [self.idx_to_id.get(idx, None) for idx in indices]\n",
        "\n",
        "# Maintenant charger les données\n",
        "with open(f\"{OUTPUTS_PATH}/prepared_data.pkl\", \"rb\") as f:\n",
        "    data = pickle.load(f)"
      ],
      "metadata": {
        "id": "yizezavuPIyx"
      },
      "execution_count": 5,
      "outputs": []
    },
    {
      "cell_type": "markdown",
      "source": [
        "## 📁 CHARGEMENT DONNÉES PRÉPARÉES"
      ],
      "metadata": {
        "id": "NxyVWSLIzZ6K"
      }
    },
    {
      "cell_type": "code",
      "source": [
        "print(\"\\n📊 Chargement des données préparées...\")\n",
        "\n",
        "with open(f\"{OUTPUTS_PATH}/prepared_data.pkl\", \"rb\") as f:\n",
        "    data = pickle.load(f)\n",
        "\n",
        "train_matrix = data['matrices']['train']\n",
        "test_matrix = data['matrices']['test']\n",
        "user_mapper = data['mappings']['user_mapper']\n",
        "item_mapper = data['mappings']['item_mapper']\n",
        "\n",
        "print(f\"✅ Train: {train_matrix.shape}, Test: {test_matrix.shape}\")"
      ],
      "metadata": {
        "colab": {
          "base_uri": "https://localhost:8080/"
        },
        "id": "QiIumdTAzb5G",
        "outputId": "c1a3e931-197a-493a-8146-fe0d67ede5bd"
      },
      "execution_count": 6,
      "outputs": [
        {
          "output_type": "stream",
          "name": "stdout",
          "text": [
            "\n",
            "📊 Chargement des données préparées...\n",
            "✅ Train: (9848, 7837), Test: (9848, 7837)\n"
          ]
        }
      ]
    },
    {
      "cell_type": "markdown",
      "source": [
        "## 🧪 TEST DES LOSS FUNCTIONS\n"
      ],
      "metadata": {
        "id": "dmjBikK5zl_q"
      }
    },
    {
      "cell_type": "code",
      "source": [
        "print(\"\\n\" + \"=\"*60)\n",
        "print(\"🧪 COMPARAISON DES LOSS FUNCTIONS\")\n",
        "print(\"=\"*60)\n",
        "\n",
        "# Configuration modèles\n",
        "loss_functions = ['warp', 'bpr', 'logistic']\n",
        "results = {}\n",
        "\n",
        "for loss in loss_functions:\n",
        "    print(f\"\\n⏳ Test {loss.upper()}...\")\n",
        "\n",
        "    # Entraînement\n",
        "    model = LightFM(loss=loss, random_state=42, no_components=30)\n",
        "    start_time = time.time()\n",
        "    model.fit(train_matrix, epochs=10, num_threads=2, verbose=True)\n",
        "    train_time = time.time() - start_time\n",
        "\n",
        "    # Évaluation\n",
        "    train_precision = precision_at_k(model, train_matrix, k=10).mean()\n",
        "    test_precision = precision_at_k(model, test_matrix, k=10, train_interactions=train_matrix).mean()\n",
        "    train_auc = auc_score(model, train_matrix).mean()\n",
        "    test_auc = auc_score(model, test_matrix, train_interactions=train_matrix).mean()\n",
        "\n",
        "    results[loss] = {\n",
        "        'train_precision@10': train_precision,\n",
        "        'test_precision@10': test_precision,\n",
        "        'train_auc': train_auc,\n",
        "        'test_auc': test_auc,\n",
        "        'train_time': train_time\n",
        "    }\n",
        "\n",
        "    print(f\"  Precision@10: {test_precision:.4f}\")\n",
        "    print(f\"  AUC: {test_auc:.4f}\")\n",
        "    print(f\"  Temps: {train_time:.1f}s\")\n",
        "\n",
        "# Résultats comparatifs\n",
        "comparison_df = pd.DataFrame(results).T\n",
        "print(f\"\\n📊 COMPARAISON LOSS FUNCTIONS:\")\n",
        "print(comparison_df.round(4))\n",
        "\n",
        "# Sélection meilleure loss\n",
        "best_loss = comparison_df['test_precision@10'].idxmax()\n",
        "print(f\"\\n🏆 Meilleure loss function: {best_loss.upper()}\")"
      ],
      "metadata": {
        "colab": {
          "base_uri": "https://localhost:8080/"
        },
        "id": "zhZmQqcTznrx",
        "outputId": "752ad52a-ca8c-4fcf-a89e-5700dd23f136"
      },
      "execution_count": 7,
      "outputs": [
        {
          "output_type": "stream",
          "name": "stdout",
          "text": [
            "\n",
            "============================================================\n",
            "🧪 COMPARAISON DES LOSS FUNCTIONS\n",
            "============================================================\n",
            "\n",
            "⏳ Test WARP...\n"
          ]
        },
        {
          "output_type": "stream",
          "name": "stderr",
          "text": [
            "Epoch: 100%|██████████| 10/10 [00:01<00:00,  6.60it/s]\n"
          ]
        },
        {
          "output_type": "stream",
          "name": "stdout",
          "text": [
            "  Precision@10: 0.0004\n",
            "  AUC: 0.1968\n",
            "  Temps: 1.5s\n",
            "\n",
            "⏳ Test BPR...\n"
          ]
        },
        {
          "output_type": "stream",
          "name": "stderr",
          "text": [
            "Epoch: 100%|██████████| 10/10 [00:01<00:00,  8.19it/s]\n"
          ]
        },
        {
          "output_type": "stream",
          "name": "stdout",
          "text": [
            "  Precision@10: 0.0001\n",
            "  AUC: 0.4819\n",
            "  Temps: 1.2s\n",
            "\n",
            "⏳ Test LOGISTIC...\n"
          ]
        },
        {
          "output_type": "stream",
          "name": "stderr",
          "text": [
            "Epoch: 100%|██████████| 10/10 [00:00<00:00, 12.31it/s]\n"
          ]
        },
        {
          "output_type": "stream",
          "name": "stdout",
          "text": [
            "  Precision@10: 0.0006\n",
            "  AUC: 0.1959\n",
            "  Temps: 0.8s\n",
            "\n",
            "📊 COMPARAISON LOSS FUNCTIONS:\n",
            "          train_precision@10  test_precision@10  train_auc  test_auc  \\\n",
            "warp                  0.0513             0.0004     0.9317    0.1968   \n",
            "bpr                   0.0004             0.0001     0.5116    0.4819   \n",
            "logistic              0.0012             0.0006     0.8727    0.1959   \n",
            "\n",
            "          train_time  \n",
            "warp          1.5360  \n",
            "bpr           1.2401  \n",
            "logistic      0.8228  \n",
            "\n",
            "🏆 Meilleure loss function: LOGISTIC\n"
          ]
        }
      ]
    },
    {
      "cell_type": "markdown",
      "source": [
        "## 🎯 MODÈLE OPTIMAL"
      ],
      "metadata": {
        "id": "Qfsw4SCg0A9p"
      }
    },
    {
      "cell_type": "code",
      "source": [
        "print(\"\\n\" + \"=\"*60)\n",
        "print(\"🎯 ENTRAÎNEMENT MODÈLE OPTIMAL\")\n",
        "print(\"=\"*60)\n",
        "\n",
        "# Configuration optimale\n",
        "optimal_model = LightFM(\n",
        "    loss=best_loss,\n",
        "    no_components=50,  # Plus de facteurs latents\n",
        "    learning_rate=0.05,\n",
        "    random_state=42\n",
        ")\n",
        "\n",
        "# Entraînement avec suivi\n",
        "epochs = 20\n",
        "train_precisions = []\n",
        "test_precisions = []\n",
        "\n",
        "print(f\"🚂 Entraînement {epochs} epochs avec {best_loss}...\")\n",
        "\n",
        "for epoch in tqdm(range(epochs)):\n",
        "    optimal_model.fit_partial(train_matrix, epochs=1)\n",
        "\n",
        "    if epoch % 5 == 0:  # Évaluation tous les 5 epochs\n",
        "        train_prec = precision_at_k(optimal_model, train_matrix, k=10).mean()\n",
        "        test_prec = precision_at_k(optimal_model, test_matrix, k=10, train_interactions=train_matrix).mean()\n",
        "        train_precisions.append(train_prec)\n",
        "        test_precisions.append(test_prec)\n",
        "\n",
        "print(\"✅ Entraînement terminé\")"
      ],
      "metadata": {
        "colab": {
          "base_uri": "https://localhost:8080/"
        },
        "id": "krZ_hNH00C51",
        "outputId": "bd626953-e39a-4278-b076-9cfb8387e3ff"
      },
      "execution_count": 8,
      "outputs": [
        {
          "output_type": "stream",
          "name": "stdout",
          "text": [
            "\n",
            "============================================================\n",
            "🎯 ENTRAÎNEMENT MODÈLE OPTIMAL\n",
            "============================================================\n",
            "🚂 Entraînement 20 epochs avec logistic...\n"
          ]
        },
        {
          "output_type": "stream",
          "name": "stderr",
          "text": [
            "100%|██████████| 20/20 [03:31<00:00, 10.59s/it]"
          ]
        },
        {
          "output_type": "stream",
          "name": "stdout",
          "text": [
            "✅ Entraînement terminé\n"
          ]
        },
        {
          "output_type": "stream",
          "name": "stderr",
          "text": [
            "\n"
          ]
        }
      ]
    },
    {
      "cell_type": "markdown",
      "source": [
        "## 📊 ÉVALUATION COMPLÈTE\n"
      ],
      "metadata": {
        "id": "cfqWLnpu0MHv"
      }
    },
    {
      "cell_type": "code",
      "source": [
        "print(\"\\n\" + \"=\"*60)\n",
        "print(\"📊 ÉVALUATION COMPLÈTE DU MODÈLE\")\n",
        "print(\"=\"*60)\n",
        "\n",
        "# Métriques multiples\n",
        "def evaluate_model(model, train_interactions, test_interactions, k_values=[5, 10, 20]):\n",
        "    metrics = {}\n",
        "\n",
        "    for k in k_values:\n",
        "        # Precision et Recall\n",
        "        train_prec = precision_at_k(model, train_interactions, k=k).mean()\n",
        "        test_prec = precision_at_k(model, test_interactions, k=k, train_interactions=train_interactions).mean()\n",
        "        train_recall = recall_at_k(model, train_interactions, k=k).mean()\n",
        "        test_recall = recall_at_k(model, test_interactions, k=k, train_interactions=train_interactions).mean()\n",
        "\n",
        "        metrics[f'train_precision@{k}'] = train_prec\n",
        "        metrics[f'test_precision@{k}'] = test_prec\n",
        "        metrics[f'train_recall@{k}'] = train_recall\n",
        "        metrics[f'test_recall@{k}'] = test_recall\n",
        "\n",
        "    # AUC\n",
        "    metrics['train_auc'] = auc_score(model, train_interactions).mean()\n",
        "    metrics['test_auc'] = auc_score(model, test_interactions, train_interactions=train_interactions).mean()\n",
        "\n",
        "    return metrics\n",
        "\n",
        "final_metrics = evaluate_model(optimal_model, train_matrix, test_matrix)\n",
        "\n",
        "print(\"📈 MÉTRIQUES FINALES:\")\n",
        "for metric, value in final_metrics.items():\n",
        "    print(f\"   {metric}: {value:.4f}\")"
      ],
      "metadata": {
        "colab": {
          "base_uri": "https://localhost:8080/"
        },
        "id": "COHnv5290N4M",
        "outputId": "e2103a2e-6e49-4f3d-9670-3c527cee0757"
      },
      "execution_count": 9,
      "outputs": [
        {
          "output_type": "stream",
          "name": "stdout",
          "text": [
            "\n",
            "============================================================\n",
            "📊 ÉVALUATION COMPLÈTE DU MODÈLE\n",
            "============================================================\n",
            "📈 MÉTRIQUES FINALES:\n",
            "   train_precision@5: 0.0018\n",
            "   test_precision@5: 0.0010\n",
            "   train_recall@5: 0.0091\n",
            "   test_recall@5: 0.0049\n",
            "   train_precision@10: 0.0012\n",
            "   test_precision@10: 0.0006\n",
            "   train_recall@10: 0.0117\n",
            "   test_recall@10: 0.0064\n",
            "   train_precision@20: 0.0010\n",
            "   test_precision@20: 0.0005\n",
            "   train_recall@20: 0.0194\n",
            "   test_recall@20: 0.0098\n",
            "   train_auc: 0.8916\n",
            "   test_auc: 0.2040\n"
          ]
        }
      ]
    },
    {
      "cell_type": "markdown",
      "source": [
        "## 📊 VISUALISATIONS\n"
      ],
      "metadata": {
        "id": "t9ipvAWw0YTK"
      }
    },
    {
      "cell_type": "code",
      "source": [
        "fig, axes = plt.subplots(2, 2, figsize=(15, 10))\n",
        "\n",
        "# 1. Comparaison loss functions\n",
        "comparison_df[['test_precision@10', 'test_auc']].plot(kind='bar', ax=axes[0,0])\n",
        "axes[0,0].set_title('Comparaison Loss Functions')\n",
        "axes[0,0].set_ylabel('Score')\n",
        "axes[0,0].tick_params(axis='x', rotation=45)\n",
        "\n",
        "# 2. Évolution entraînement\n",
        "epochs_eval = list(range(0, epochs, 5))\n",
        "axes[0,1].plot(epochs_eval, train_precisions, label='Train', marker='o')\n",
        "axes[0,1].plot(epochs_eval, test_precisions, label='Test', marker='s')\n",
        "axes[0,1].set_title('Évolution Precision@10')\n",
        "axes[0,1].set_xlabel('Epoch')\n",
        "axes[0,1].set_ylabel('Precision@10')\n",
        "axes[0,1].legend()\n",
        "axes[0,1].grid(True, alpha=0.3)\n",
        "\n",
        "# 3. Métriques par K\n",
        "k_vals = [5, 10, 20]\n",
        "test_precs = [final_metrics[f'test_precision@{k}'] for k in k_vals]\n",
        "test_recalls = [final_metrics[f'test_recall@{k}'] for k in k_vals]\n",
        "\n",
        "x = np.arange(len(k_vals))\n",
        "axes[1,0].bar(x - 0.2, test_precs, 0.4, label='Precision', alpha=0.7)\n",
        "axes[1,0].bar(x + 0.2, test_recalls, 0.4, label='Recall', alpha=0.7)\n",
        "axes[1,0].set_title('Métriques par K')\n",
        "axes[1,0].set_xlabel('K')\n",
        "axes[1,0].set_xticks(x)\n",
        "axes[1,0].set_xticklabels([f'@{k}' for k in k_vals])\n",
        "axes[1,0].legend()\n",
        "\n",
        "# 4. Distribution scores prédictions\n",
        "n_users_sample = min(100, train_matrix.shape[0])\n",
        "user_sample = np.random.choice(train_matrix.shape[0], n_users_sample, replace=False)\n",
        "scores_sample = []\n",
        "\n",
        "for user_id in user_sample:\n",
        "    user_items = train_matrix[user_id].nonzero()[1]\n",
        "    if len(user_items) > 0:\n",
        "        item_sample = np.random.choice(user_items, min(5, len(user_items)), replace=False)\n",
        "        user_array = np.full(len(item_sample), user_id, dtype=np.int32)\n",
        "        scores = optimal_model.predict(user_array, item_sample.astype(np.int32))\n",
        "        scores_sample.extend(scores)\n",
        "\n",
        "\n",
        "if scores_sample:\n",
        "    axes[1,1].hist(scores_sample, bins=20, alpha=0.7, color='skyblue')\n",
        "    axes[1,1].set_title('Distribution Scores Prédictions')\n",
        "    axes[1,1].set_xlabel('Score')\n",
        "    axes[1,1].set_ylabel('Fréquence')\n",
        "\n",
        "plt.tight_layout()\n",
        "plt.savefig(f\"{OUTPUTS_PATH}/figures/collaborative_model_results.png\", dpi=300, bbox_inches='tight')\n",
        "plt.show()"
      ],
      "metadata": {
        "colab": {
          "base_uri": "https://localhost:8080/",
          "height": 869
        },
        "id": "M7i0Wjow0aI3",
        "outputId": "4db03d3b-c4a3-4e0f-ae30-c25c534c05f5"
      },
      "execution_count": 10,
      "outputs": [
        {
          "output_type": "display_data",
          "data": {
            "text/plain": [
              "<Figure size 1500x1000 with 4 Axes>"
            ],
            "image/png": "[encoded data removed]"
          },
          "metadata": {}
        }
      ]
    },
    {
      "cell_type": "markdown",
      "source": [
        "## 🔍 ANALYSE DES RECOMMANDATIONS\n"
      ],
      "metadata": {
        "id": "d164XBEd0nFs"
      }
    },
    {
      "cell_type": "code",
      "source": [
        "print(\"\\n\" + \"=\"*60)\n",
        "print(\"🔍 ANALYSE QUALITATIVE\")\n",
        "print(\"=\"*60)\n",
        "\n",
        "\n",
        "def get_recommendations(model, user_idx, train_interactions, n_recs=10):\n",
        "    \"\"\"Génère recommandations pour un utilisateur\"\"\"\n",
        "    n_items = train_interactions.shape[1]\n",
        "    known_items = train_interactions[user_idx].nonzero()[1]\n",
        "\n",
        "    # Créer arrays de même taille\n",
        "    user_array = np.full(n_items, user_idx, dtype=np.int32)\n",
        "    item_array = np.arange(n_items, dtype=np.int32)\n",
        "    scores = model.predict(user_array, item_array)\n",
        "\n",
        "    # Masquer items déjà vus\n",
        "    scores[known_items] = -np.inf\n",
        "\n",
        "    # Top N\n",
        "    top_items = np.argsort(-scores)[:n_recs]\n",
        "    return top_items, scores[top_items]\n",
        "\n",
        "\n",
        "# Test sur utilisateurs actifs\n",
        "active_users = np.array(train_matrix.sum(axis=1)).flatten()\n",
        "top_active_users = np.argsort(-active_users)[:5]\n",
        "\n",
        "print(\"🎯 EXEMPLES DE RECOMMANDATIONS:\")\n",
        "for i, user_idx in enumerate(top_active_users):\n",
        "    n_interactions = active_users[user_idx]\n",
        "    recs, scores = get_recommendations(optimal_model, user_idx, train_matrix, 5)\n",
        "\n",
        "    print(f\"\\nUser {user_idx} ({n_interactions} interactions):\")\n",
        "    for j, (item_idx, score) in enumerate(zip(recs, scores)):\n",
        "        item_id = item_mapper.idx_to_id[item_idx]\n",
        "        print(f\"  {j+1}. Item {item_id}: {score:.3f}\")"
      ],
      "metadata": {
        "colab": {
          "base_uri": "https://localhost:8080/"
        },
        "id": "58oHmQ350mPA",
        "outputId": "0b598d02-5a43-4e72-dcf5-419fb13d60d8"
      },
      "execution_count": 11,
      "outputs": [
        {
          "output_type": "stream",
          "name": "stdout",
          "text": [
            "\n",
            "============================================================\n",
            "🔍 ANALYSE QUALITATIVE\n",
            "============================================================\n",
            "🎯 EXEMPLES DE RECOMMANDATIONS:\n",
            "\n",
            "User 8826 (3.0 interactions):\n",
            "  1. Item 562245001: 1.707\n",
            "  2. Item 706016001: 1.664\n",
            "  3. Item 610776002: 1.568\n",
            "  4. Item 158340001: 1.517\n",
            "  5. Item 706016002: 1.516\n",
            "\n",
            "User 6775 (3.0 interactions):\n",
            "  1. Item 562245001: 1.698\n",
            "  2. Item 706016001: 1.656\n",
            "  3. Item 610776002: 1.560\n",
            "  4. Item 372860002: 1.508\n",
            "  5. Item 156231001: 1.508\n",
            "\n",
            "User 2122 (3.0 interactions):\n",
            "  1. Item 562245001: 1.703\n",
            "  2. Item 706016001: 1.659\n",
            "  3. Item 610776002: 1.563\n",
            "  4. Item 156231001: 1.512\n",
            "  5. Item 706016002: 1.512\n",
            "\n",
            "User 9400 (2.0 interactions):\n",
            "  1. Item 562245001: 1.581\n",
            "  2. Item 706016001: 1.536\n",
            "  3. Item 610776002: 1.440\n",
            "  4. Item 706016002: 1.389\n",
            "  5. Item 158340001: 1.389\n",
            "\n",
            "User 9190 (2.0 interactions):\n",
            "  1. Item 562245001: 1.591\n",
            "  2. Item 706016001: 1.548\n",
            "  3. Item 610776002: 1.453\n",
            "  4. Item 158340001: 1.400\n",
            "  5. Item 706016002: 1.400\n"
          ]
        }
      ]
    },
    {
      "cell_type": "markdown",
      "source": [
        "## 💾 SAUVEGARDE MODÈLE\n"
      ],
      "metadata": {
        "id": "kB5HYCUT0w9O"
      }
    },
    {
      "cell_type": "code",
      "source": [
        "print(\"\\n💾 Sauvegarde du modèle...\")\n",
        "\n",
        "model_results = {\n",
        "    'model': optimal_model,\n",
        "    'metrics': final_metrics,\n",
        "    'loss_comparison': comparison_df,\n",
        "    'best_loss': best_loss,\n",
        "    'training_curves': {\n",
        "        'epochs': epochs_eval,\n",
        "        'train_precision': train_precisions,\n",
        "        'test_precision': test_precisions\n",
        "    },\n",
        "    'model_config': {\n",
        "        'loss': best_loss,\n",
        "        'no_components': 50,\n",
        "        'learning_rate': 0.05,\n",
        "        'epochs': epochs\n",
        "    },\n",
        "    'metadata': {\n",
        "        'train_shape': train_matrix.shape,\n",
        "        'test_shape': test_matrix.shape,\n",
        "        'creation_date': time.strftime('%Y-%m-%d %H:%M:%S')\n",
        "    }\n",
        "}\n",
        "\n",
        "with open(f\"{OUTPUTS_PATH}/collaborative_model_results.pkl\", \"wb\") as f:\n",
        "    pickle.dump(model_results, f)\n",
        "\n",
        "print(f\"✅ Modèle sauvegardé: {OUTPUTS_PATH}/collaborative_model_results.pkl\")"
      ],
      "metadata": {
        "colab": {
          "base_uri": "https://localhost:8080/"
        },
        "id": "lPVmO_hX02qo",
        "outputId": "eaad65fd-dc68-48cb-a284-d02a8711524e"
      },
      "execution_count": 12,
      "outputs": [
        {
          "output_type": "stream",
          "name": "stdout",
          "text": [
            "\n",
            "💾 Sauvegarde du modèle...\n",
            "✅ Modèle sauvegardé: /content/drive/MyDrive/PSL/00-RecommanderSystem/h2m-recsys/outputs/collaborative_model_results.pkl\n"
          ]
        }
      ]
    },
    {
      "cell_type": "markdown",
      "source": [
        "# 🎯 RÉSUMÉ ET PROCHAINES ÉTAPES"
      ],
      "metadata": {
        "id": "xZkamIED0-Oa"
      }
    },
    {
      "cell_type": "code",
      "source": [
        "print(\"\\n\" + \"=\"*70)\n",
        "print(\"🎯 MODÈLE COLLABORATIF TERMINÉ\")\n",
        "print(\"=\"*70)\n",
        "\n",
        "print(f\"\\n🏆 PERFORMANCES:\")\n",
        "print(f\"   • Loss function: {best_loss.upper()}\")\n",
        "print(f\"   • Test Precision@10: {final_metrics['test_precision@10']:.4f}\")\n",
        "print(f\"   • Test AUC: {final_metrics['test_auc']:.4f}\")\n",
        "print(f\"   • Test Recall@10: {final_metrics['test_recall@10']:.4f}\")\n",
        "\n",
        "print(f\"\\n🚀 PROCHAINES ÉTAPES:\")\n",
        "print(f\"   1. Optimisation hyperparamètres (Grid Search)\")\n",
        "print(f\"   2. Évaluation plus poussée\")\n",
        "print(f\"   3. Modèle hybride avec features articles\")\n",
        "\n",
        "print(\"\\n✅ Baseline collaborative établie!\")\n",
        "print(\"=\"*70)"
      ],
      "metadata": {
        "colab": {
          "base_uri": "https://localhost:8080/"
        },
        "id": "zqrK9Sk61D2A",
        "outputId": "4daf94d8-e1b6-4219-f58c-1b329d429d30"
      },
      "execution_count": 13,
      "outputs": [
        {
          "output_type": "stream",
          "name": "stdout",
          "text": [
            "\n",
            "======================================================================\n",
            "🎯 MODÈLE COLLABORATIF TERMINÉ\n",
            "======================================================================\n",
            "\n",
            "🏆 PERFORMANCES:\n",
            "   • Loss function: LOGISTIC\n",
            "   • Test Precision@10: 0.0006\n",
            "   • Test AUC: 0.2040\n",
            "   • Test Recall@10: 0.0064\n",
            "\n",
            "🚀 PROCHAINES ÉTAPES:\n",
            "   1. Optimisation hyperparamètres (Grid Search)\n",
            "   2. Évaluation plus poussée\n",
            "   3. Modèle hybride avec features articles\n",
            "\n",
            "✅ Baseline collaborative établie!\n",
            "======================================================================\n"
          ]
        }
      ]
    }
  ]
}