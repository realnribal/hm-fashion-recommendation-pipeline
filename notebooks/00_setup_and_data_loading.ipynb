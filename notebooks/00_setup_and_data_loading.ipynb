{
  "nbformat": 4,
  "nbformat_minor": 0,
  "metadata": {
    "colab": {
      "provenance": []
    },
    "kernelspec": {
      "name": "python3",
      "display_name": "Python 3"
    },
    "language_info": {
      "name": "python"
    }
  },
  "cells": [
    {
      "cell_type": "markdown",
      "source": [
        "# CONFIGURATION GOOGLE DRIVE"
      ],
      "metadata": {
        "id": "1p8LiUmwsa7m"
      }
    },
    {
      "cell_type": "code",
      "execution_count": null,
      "metadata": {
        "colab": {
          "base_uri": "https://localhost:8080/"
        },
        "id": "UsuEPF5lsETk",
        "outputId": "05ed22a9-6143-432c-fb93-deb53d01cbd7"
      },
      "outputs": [
        {
          "output_type": "stream",
          "name": "stdout",
          "text": [
            "🔗 Connexion à Google Drive...\n",
            "Mounted at /content/drive\n",
            "✅ Google Drive monté avec succès\n"
          ]
        }
      ],
      "source": [
        "print(\"🔗 Connexion à Google Drive...\")\n",
        "from google.colab import drive\n",
        "drive.mount('/content/drive')\n",
        "print(\"✅ Google Drive monté avec succès\")"
      ]
    },
    {
      "cell_type": "markdown",
      "source": [
        "# INSTALLATION DES DÉPENDANCES"
      ],
      "metadata": {
        "id": "sFaZxl9cssef"
      }
    },
    {
      "cell_type": "code",
      "source": [
        "print(\"\\n📦 Installation des bibliothèques...\")\n",
        "print(\"⏳ Installation de LightFM en cours...\")\n",
        "!pip install -q lightfm\n",
        "\n",
        "print(\"⏳ Installation des dépendances supplémentaires...\")\n",
        "!pip install -q tqdm\n",
        "\n",
        "import sys\n",
        "print(f\"✅ Python {sys.version_info.major}.{sys.version_info.minor}\")\n",
        "print(\"✅ Toutes les dépendances installées\")"
      ],
      "metadata": {
        "colab": {
          "base_uri": "https://localhost:8080/"
        },
        "id": "njEWAT0YsgSJ",
        "outputId": "ed7c15c0-a1e4-41d4-d603-b64e192f6ea6"
      },
      "execution_count": null,
      "outputs": [
        {
          "output_type": "stream",
          "name": "stdout",
          "text": [
            "\n",
            "📦 Installation des bibliothèques...\n",
            "⏳ Installation de LightFM en cours...\n",
            "\u001b[2K     \u001b[90m━━━━━━━━━━━━━━━━━━━━━━━━━━━━━━━━━━━━━━\u001b[0m \u001b[32m316.4/316.4 kB\u001b[0m \u001b[31m18.1 MB/s\u001b[0m eta \u001b[36m0:00:00\u001b[0m\n",
            "\u001b[?25h  Preparing metadata (setup.py) ... \u001b[?25l\u001b[?25hdone\n",
            "  \u001b[1;31merror\u001b[0m: \u001b[1msubprocess-exited-with-error\u001b[0m\n",
            "  \n",
            "  \u001b[31m×\u001b[0m \u001b[32mpython setup.py bdist_wheel\u001b[0m did not run successfully.\n",
            "  \u001b[31m│\u001b[0m exit code: \u001b[1;36m1\u001b[0m\n",
            "  \u001b[31m╰─>\u001b[0m See above for output.\n",
            "  \n",
            "  \u001b[1;35mnote\u001b[0m: This error originates from a subprocess, and is likely not a problem with pip.\n",
            "  Building wheel for lightfm (setup.py) ... \u001b[?25lerror\n",
            "\u001b[31m  ERROR: Failed building wheel for lightfm\u001b[0m\u001b[31m\n",
            "\u001b[0m\u001b[31mERROR: ERROR: Failed to build installable wheels for some pyproject.toml based projects (lightfm)\u001b[0m\u001b[31m\n",
            "\u001b[0m\u001b[?25h⏳ Installation des dépendances supplémentaires...\n",
            "✅ Python 3.12\n",
            "✅ Toutes les dépendances installées\n"
          ]
        }
      ]
    },
    {
      "cell_type": "markdown",
      "source": [
        "# CONFIGURATION DES CHEMINS"
      ],
      "metadata": {
        "id": "mywWKZG4s_AF"
      }
    },
    {
      "cell_type": "code",
      "source": [
        "import os\n",
        "from pathlib import Path\n",
        "\n",
        "print(\"\\n📁 Configuration des chemins de travail...\")\n",
        "\n",
        "# Chemins principaux\n",
        "BASE_PATH = \"/content/drive/MyDrive/PSL/00-RecommanderSystem/h2m-recsys\"\n",
        "DATA_PATH = f\"{BASE_PATH}/data\"\n",
        "OUTPUTS_PATH = f\"{BASE_PATH}/outputs\"\n",
        "\n",
        "# Création de la structure de dossiers\n",
        "directories_to_create = [\n",
        "    f\"{OUTPUTS_PATH}/models\",\n",
        "    f\"{OUTPUTS_PATH}/figures\",\n",
        "    f\"{OUTPUTS_PATH}/metrics\",\n",
        "    f\"{OUTPUTS_PATH}/samples\"\n",
        "]\n",
        "\n",
        "for directory in directories_to_create:\n",
        "    os.makedirs(directory, exist_ok=True)\n",
        "\n",
        "print(f\"📂 Répertoire de base : {BASE_PATH}\")\n",
        "print(f\"📂 Données : {DATA_PATH}\")\n",
        "print(f\"📂 Résultats : {OUTPUTS_PATH}\")\n",
        "print(\"✅ Structure de dossiers créée\")"
      ],
      "metadata": {
        "colab": {
          "base_uri": "https://localhost:8080/"
        },
        "id": "I48MhZdjs112",
        "outputId": "5d257728-c44b-492d-f792-b3794230c64a"
      },
      "execution_count": null,
      "outputs": [
        {
          "output_type": "stream",
          "name": "stdout",
          "text": [
            "\n",
            "📁 Configuration des chemins de travail...\n",
            "📂 Répertoire de base : /content/drive/MyDrive/PSL/00-RecommanderSystem/h2m-recsys\n",
            "📂 Données : /content/drive/MyDrive/PSL/00-RecommanderSystem/h2m-recsys/data\n",
            "📂 Résultats : /content/drive/MyDrive/PSL/00-RecommanderSystem/h2m-recsys/outputs\n",
            "✅ Structure de dossiers créée\n"
          ]
        }
      ]
    },
    {
      "cell_type": "markdown",
      "source": [
        "# CHARGEMENT DES DATASETS H&M"
      ],
      "metadata": {
        "id": "tRlTOFcxuwDP"
      }
    },
    {
      "cell_type": "code",
      "source": [
        "import pandas as pd\n",
        "import numpy as np\n",
        "from datetime import datetime\n",
        "\n",
        "print(\"\\n📊 Chargement des datasets H&M...\")\n",
        "\n",
        "def charger_donnees_h2m():\n",
        "    \"\"\"\n",
        "    Charge les trois datasets principaux H&M\n",
        "\n",
        "    Returns:\n",
        "        tuple: (df_articles, df_customers, df_transactions)\n",
        "    \"\"\"\n",
        "    try:\n",
        "        print(\"⏳ Chargement articles.csv...\")\n",
        "        df_articles = pd.read_csv(f\"{DATA_PATH}/articles.csv\")\n",
        "\n",
        "        print(\"⏳ Chargement customers.csv...\")\n",
        "        df_customers = pd.read_csv(f\"{DATA_PATH}/customers.csv\")\n",
        "\n",
        "        print(\"⏳ Chargement transactions_train.csv...\")\n",
        "        df_transactions = pd.read_csv(f\"{DATA_PATH}/transactions_train.csv\")\n",
        "\n",
        "        return df_articles, df_customers, df_transactions\n",
        "\n",
        "    except FileNotFoundError as e:\n",
        "        print(f\"❌ Erreur : Fichier manquant - {e}\")\n",
        "        print(\"📋 Vérifiez que les fichiers suivants sont présents dans /data/ :\")\n",
        "        print(\"   • articles.csv\")\n",
        "        print(\"   • customers.csv\")\n",
        "        print(\"   • transactions_train.csv\")\n",
        "        return None, None, None\n",
        "\n",
        "    except Exception as e:\n",
        "        print(f\"❌ Erreur lors du chargement : {e}\")\n",
        "        return None, None, None\n",
        "\n",
        "# Chargement des données\n",
        "df_articles, df_customers, df_transactions = charger_donnees_h2m()\n",
        "\n",
        "if df_articles is not None:\n",
        "    print(\"✅ Tous les datasets chargés avec succès!\")\n",
        "else:\n",
        "    print(\"❌ Échec du chargement des données\")"
      ],
      "metadata": {
        "colab": {
          "base_uri": "https://localhost:8080/"
        },
        "id": "FHctq8A9uxt3",
        "outputId": "ecf7320a-c520-4481-8f9b-ae1103cfff72"
      },
      "execution_count": null,
      "outputs": [
        {
          "output_type": "stream",
          "name": "stdout",
          "text": [
            "\n",
            "📊 Chargement des datasets H&M...\n",
            "⏳ Chargement articles.csv...\n",
            "⏳ Chargement customers.csv...\n",
            "⏳ Chargement transactions_train.csv...\n",
            "✅ Tous les datasets chargés avec succès!\n"
          ]
        }
      ]
    },
    {
      "cell_type": "markdown",
      "source": [
        "# VALIDATION DES DONNÉES"
      ],
      "metadata": {
        "id": "P7TZ1YfodP4f"
      }
    },
    {
      "cell_type": "code",
      "source": [
        "if df_articles is not None:\n",
        "    print(\"\\n🔍 Validation et aperçu des datasets...\")\n",
        "\n",
        "    # Informations sur les dimensions\n",
        "    print(\"\\n📊 DIMENSIONS DES DATASETS\")\n",
        "    print(\"=\"*50)\n",
        "    print(f\"Articles     : {df_articles.shape[0]:>8,} lignes × {df_articles.shape[1]:>2} colonnes\")\n",
        "    print(f\"Customers    : {df_customers.shape[0]:>8,} lignes × {df_customers.shape[1]:>2} colonnes\")\n",
        "    print(f\"Transactions : {df_transactions.shape[0]:>8,} lignes × {df_transactions.shape[1]:>2} colonnes\")\n",
        "\n",
        "    # Colonnes disponibles\n",
        "    print(\"\\n🏷️ COLONNES DISPONIBLES\")\n",
        "    print(\"=\"*50)\n",
        "    print(f\"Articles    : {list(df_articles.columns)}\")\n",
        "    print(f\"Customers   : {list(df_customers.columns)}\")\n",
        "    print(f\"Transactions: {list(df_transactions.columns)}\")\n",
        "\n",
        "    # Statistiques rapides\n",
        "    n_clients_uniques = df_transactions['customer_id'].nunique()\n",
        "    n_articles_uniques = df_transactions['article_id'].nunique()\n",
        "    n_transactions = len(df_transactions)\n",
        "\n",
        "    print(\"\\n📈 STATISTIQUES RAPIDES\")\n",
        "    print(\"=\"*50)\n",
        "    print(f\"Clients uniques      : {n_clients_uniques:>10,}\")\n",
        "    print(f\"Articles uniques     : {n_articles_uniques:>10,}\")\n",
        "    print(f\"Transactions totales : {n_transactions:>10,}\")\n",
        "    print(f\"Sparsité estimée     : {(1 - n_transactions/(n_clients_uniques * n_articles_uniques))*100:>9.2f}%\")\n",
        "\n",
        "    # Aperçu des données\n",
        "    print(\"\\n👀 APERÇU DES PREMIÈRES LIGNES\")\n",
        "    print(\"=\"*50)\n",
        "    print(\"\\n📋 ARTICLES (3 premières lignes):\")\n",
        "    print(df_articles.head(3).to_string())\n",
        "\n",
        "    print(\"\\n👥 CUSTOMERS (3 premières lignes):\")\n",
        "    print(df_customers.head(3).to_string())\n",
        "\n",
        "    print(\"\\n🛒 TRANSACTIONS (3 premières lignes):\")\n",
        "    print(df_transactions.head(3).to_string())"
      ],
      "metadata": {
        "colab": {
          "base_uri": "https://localhost:8080/"
        },
        "id": "m3py_8todRNp",
        "outputId": "a7d7f46a-2b47-4569-92c6-14ddf26fba9f"
      },
      "execution_count": null,
      "outputs": [
        {
          "output_type": "stream",
          "name": "stdout",
          "text": [
            "\n",
            "🔍 Validation et aperçu des datasets...\n",
            "\n",
            "📊 DIMENSIONS DES DATASETS\n",
            "==================================================\n",
            "Articles     :  105,542 lignes × 25 colonnes\n",
            "Customers    : 1,371,980 lignes ×  7 colonnes\n",
            "Transactions : 31,788,324 lignes ×  5 colonnes\n",
            "\n",
            "🏷️ COLONNES DISPONIBLES\n",
            "==================================================\n",
            "Articles    : ['article_id', 'product_code', 'prod_name', 'product_type_no', 'product_type_name', 'product_group_name', 'graphical_appearance_no', 'graphical_appearance_name', 'colour_group_code', 'colour_group_name', 'perceived_colour_value_id', 'perceived_colour_value_name', 'perceived_colour_master_id', 'perceived_colour_master_name', 'department_no', 'department_name', 'index_code', 'index_name', 'index_group_no', 'index_group_name', 'section_no', 'section_name', 'garment_group_no', 'garment_group_name', 'detail_desc']\n",
            "Customers   : ['customer_id', 'FN', 'Active', 'club_member_status', 'fashion_news_frequency', 'age', 'postal_code']\n",
            "Transactions: ['t_dat', 'customer_id', 'article_id', 'price', 'sales_channel_id']\n",
            "\n",
            "📈 STATISTIQUES RAPIDES\n",
            "==================================================\n",
            "Clients uniques      :  1,362,281\n",
            "Articles uniques     :    104,547\n",
            "Transactions totales : 31,788,324\n",
            "Sparsité estimée     :     99.98%\n",
            "\n",
            "👀 APERÇU DES PREMIÈRES LIGNES\n",
            "==================================================\n",
            "\n",
            "📋 ARTICLES (3 premières lignes):\n",
            "   article_id  product_code      prod_name  product_type_no product_type_name  product_group_name  graphical_appearance_no graphical_appearance_name  colour_group_code colour_group_name  perceived_colour_value_id perceived_colour_value_name  perceived_colour_master_id perceived_colour_master_name  department_no department_name index_code  index_name  index_group_no index_group_name  section_no            section_name  garment_group_no garment_group_name                              detail_desc\n",
            "0   108775015        108775      Strap top              253          Vest top  Garment Upper body                  1010016                     Solid                  9             Black                          4                        Dark                           5                        Black           1676    Jersey Basic          A  Ladieswear               1       Ladieswear          16  Womens Everyday Basics              1002       Jersey Basic  Jersey top with narrow shoulder straps.\n",
            "1   108775044        108775      Strap top              253          Vest top  Garment Upper body                  1010016                     Solid                 10             White                          3                       Light                           9                        White           1676    Jersey Basic          A  Ladieswear               1       Ladieswear          16  Womens Everyday Basics              1002       Jersey Basic  Jersey top with narrow shoulder straps.\n",
            "2   108775051        108775  Strap top (1)              253          Vest top  Garment Upper body                  1010017                    Stripe                 11         Off White                          1                 Dusty Light                           9                        White           1676    Jersey Basic          A  Ladieswear               1       Ladieswear          16  Womens Everyday Basics              1002       Jersey Basic  Jersey top with narrow shoulder straps.\n",
            "\n",
            "👥 CUSTOMERS (3 premières lignes):\n",
            "                                                        customer_id  FN  Active club_member_status fashion_news_frequency   age                                                       postal_code\n",
            "0  00000dbacae5abe5e23885899a1fa44253a17956c6d1c3d25f88aa139fdfc657 NaN     NaN             ACTIVE                   NONE  49.0  52043ee2162cf5aa7ee79974281641c6f11a68d276429a91f8ca0d4b6efa8100\n",
            "1  0000423b00ade91418cceaf3b26c6af3dd342b51fd051eec9c12fb36984420fa NaN     NaN             ACTIVE                   NONE  25.0  2973abc54daa8a5f8ccfe9362140c63247c5eee03f1d93f4c830291c32bc3057\n",
            "2  000058a12d5b43e67d225668fa1f8d618c13dc232df0cad8ffe7ad4a1091e318 NaN     NaN             ACTIVE                   NONE  24.0  64f17e6a330a85798e4998f62d0930d14db8db1c054af6c9090f7dd3e38380dc\n",
            "\n",
            "🛒 TRANSACTIONS (3 premières lignes):\n",
            "        t_dat                                                       customer_id  article_id     price  sales_channel_id\n",
            "0  2018-09-20  000058a12d5b43e67d225668fa1f8d618c13dc232df0cad8ffe7ad4a1091e318   663713001  0.050831                 2\n",
            "1  2018-09-20  000058a12d5b43e67d225668fa1f8d618c13dc232df0cad8ffe7ad4a1091e318   541518023  0.030492                 2\n",
            "2  2018-09-20  00007d2de826758b65a93dd24ce629ed66842531df6699338c5570910a014cc2   505221004  0.015237                 2\n"
          ]
        }
      ]
    },
    {
      "cell_type": "markdown",
      "source": [
        "# SAUVEGARDE POUR LES NOTEBOOKS SUIVANTS"
      ],
      "metadata": {
        "id": "SosQ3As0dk8W"
      }
    },
    {
      "cell_type": "code",
      "source": [
        "if df_articles is not None:\n",
        "    print(\"\\n💾 Sauvegarde des datasets pour les notebooks suivants...\")\n",
        "\n",
        "    import pickle\n",
        "    from datetime import datetime\n",
        "\n",
        "    # Préparation des données à sauvegarder\n",
        "    datasets_complets = {\n",
        "        'articles': df_articles,\n",
        "        'customers': df_customers,\n",
        "        'transactions': df_transactions,\n",
        "        'metadata': {\n",
        "            'date_creation': datetime.now().isoformat(),\n",
        "            'n_articles': len(df_articles),\n",
        "            'n_customers': len(df_customers),\n",
        "            'n_transactions': len(df_transactions),\n",
        "            'colonnes_articles': list(df_articles.columns),\n",
        "            'colonnes_customers': list(df_customers.columns),\n",
        "            'colonnes_transactions': list(df_transactions.columns)\n",
        "        }\n",
        "    }\n",
        "\n",
        "    # Sauvegarde\n",
        "    fichier_sauvegarde = f\"{OUTPUTS_PATH}/datasets_complets.pkl\"\n",
        "    with open(fichier_sauvegarde, \"wb\") as f:\n",
        "        pickle.dump(datasets_complets, f)\n",
        "\n",
        "    print(f\"✅ Datasets sauvegardés dans : {fichier_sauvegarde}\")\n",
        "    print(f\"📊 Taille du fichier : {os.path.getsize(fichier_sauvegarde) / (1024*1024):.1f} MB\")\n"
      ],
      "metadata": {
        "colab": {
          "base_uri": "https://localhost:8080/"
        },
        "id": "KLfhZkoldV9B",
        "outputId": "383721c7-d97b-4ac3-c94d-3f0ac5fe2187"
      },
      "execution_count": null,
      "outputs": [
        {
          "output_type": "stream",
          "name": "stdout",
          "text": [
            "\n",
            "💾 Sauvegarde des datasets pour les notebooks suivants...\n",
            "✅ Datasets sauvegardés dans : /content/drive/MyDrive/PSL/00-RecommanderSystem/h2m-recsys/outputs/datasets_complets.pkl\n",
            "📊 Taille du fichier : 1765.4 MB\n"
          ]
        }
      ]
    },
    {
      "cell_type": "markdown",
      "source": [
        "# RÉCAPITULATIF ET PROCHAINES ÉTAPES"
      ],
      "metadata": {
        "id": "glIex6vFeUrh"
      }
    },
    {
      "cell_type": "code",
      "source": [
        "print(\"\\n\" + \"=\"*70)\n",
        "print(\"🎯 RÉCAPITULATIF DE LA CONFIGURATION\")\n",
        "print(\"=\"*70)\n",
        "\n",
        "if df_articles is not None:\n",
        "    print(\"✅ Configuration Google Drive\")\n",
        "    print(\"✅ Installation des dépendances\")\n",
        "    print(\"✅ Création de la structure de dossiers\")\n",
        "    print(\"✅ Chargement des datasets H&M\")\n",
        "    print(\"✅ Validation des données\")\n",
        "    print(\"✅ Sauvegarde pour notebooks suivants\")\n",
        "\n",
        "    print(\"\\n🚀 PROCHAINES ÉTAPES\")\n",
        "    print(\"-\"*30)\n",
        "    print(\"1️⃣  01_Exploration_Donnees.ipynb\")\n",
        "    print(\"2️⃣  02_Echantillonnage_Donnees.ipynb\")\n",
        "    print(\"3️⃣  03_Preparation_Donnees.ipynb\")\n",
        "    print(\"4️⃣  04_Modele_Collaboratif.ipynb\")\n",
        "    print(\"5️⃣  05_Optimisation_Hyperparametres.ipynb\")\n",
        "    print(\"6️⃣  06_Evaluation_Modele.ipynb\")\n",
        "    print(\"7️⃣  07_Modele_Hybride.ipynb\")\n",
        "    print(\"8️⃣  08_Pipeline_Final.ipynb\")\n",
        "\n",
        "else:\n",
        "    print(\"❌ Configuration incomplète\")\n",
        "    print(\"📋 Vérifiez la présence des fichiers de données\")\n",
        "\n",
        "print(\"\\n🎉 Configuration terminée !\")\n",
        "print(\"=\"*70)"
      ],
      "metadata": {
        "colab": {
          "base_uri": "https://localhost:8080/"
        },
        "id": "Cbqlqp0mdya2",
        "outputId": "6b74f3ff-0802-4e9e-8977-156995839795"
      },
      "execution_count": null,
      "outputs": [
        {
          "output_type": "stream",
          "name": "stdout",
          "text": [
            "\n",
            "======================================================================\n",
            "🎯 RÉCAPITULATIF DE LA CONFIGURATION\n",
            "======================================================================\n",
            "✅ Configuration Google Drive\n",
            "✅ Installation des dépendances\n",
            "✅ Création de la structure de dossiers\n",
            "✅ Chargement des datasets H&M\n",
            "✅ Validation des données\n",
            "✅ Sauvegarde pour notebooks suivants\n",
            "\n",
            "🚀 PROCHAINES ÉTAPES\n",
            "------------------------------\n",
            "1️⃣  01_Exploration_Donnees.ipynb\n",
            "2️⃣  02_Echantillonnage_Donnees.ipynb\n",
            "3️⃣  03_Preparation_Donnees.ipynb\n",
            "4️⃣  04_Modele_Collaboratif.ipynb\n",
            "5️⃣  05_Optimisation_Hyperparametres.ipynb\n",
            "6️⃣  06_Evaluation_Modele.ipynb\n",
            "7️⃣  07_Modele_Hybride.ipynb\n",
            "8️⃣  08_Pipeline_Final.ipynb\n",
            "\n",
            "🎉 Configuration terminée !\n",
            "======================================================================\n"
          ]
        }
      ]
    },
    {
      "cell_type": "code",
      "source": [],
      "metadata": {
        "id": "Xu3k962reZM8"
      },
      "execution_count": null,
      "outputs": []
    }
  ]
}