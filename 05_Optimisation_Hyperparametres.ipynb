{
  "nbformat": 4,
  "nbformat_minor": 0,
  "metadata": {
    "colab": {
      "provenance": [],
      "gpuType": "T4"
    },
    "kernelspec": {
      "name": "python3",
      "display_name": "Python 3"
    },
    "language_info": {
      "name": "python"
    },
    "accelerator": "GPU"
  },
  "cells": [
    {
      "cell_type": "code",
      "execution_count": 1,
      "metadata": {
        "colab": {
          "base_uri": "https://localhost:8080/"
        },
        "id": "br0y6P5-DIQ4",
        "outputId": "af32b95f-2364-4fde-f6e9-3f81f791ad2a"
      },
      "outputs": [
        {
          "output_type": "stream",
          "name": "stdout",
          "text": [
            "🔗 Connexion à Google Drive...\n",
            "Mounted at /content/drive\n",
            "✅ Google Drive monté avec succès\n",
            "\n",
            "📁 Configuration des chemins de travail...\n"
          ]
        }
      ],
      "source": [
        "print(\"🔗 Connexion à Google Drive...\")\n",
        "from google.colab import drive\n",
        "drive.mount('/content/drive')\n",
        "print(\"✅ Google Drive monté avec succès\")\n",
        "\n",
        "import os\n",
        "from pathlib import Path\n",
        "\n",
        "print(\"\\n📁 Configuration des chemins de travail...\")\n",
        "\n",
        "# Chemins principaux\n",
        "BASE_PATH = \"/content/drive/MyDrive/PSL/00-RecommanderSystem/h2m-recsys\"\n",
        "DATA_PATH = f\"{BASE_PATH}/data\"\n",
        "OUTPUTS_PATH = f\"{BASE_PATH}/outputs\""
      ]
    },
    {
      "cell_type": "code",
      "source": [
        "!pip install git+https://github.com/daviddavo/lightfm"
      ],
      "metadata": {
        "colab": {
          "base_uri": "https://localhost:8080/"
        },
        "id": "04rwfWo2D0aq",
        "outputId": "b63e079c-4be0-4607-d16a-1fe0c30d3749"
      },
      "execution_count": 2,
      "outputs": [
        {
          "output_type": "stream",
          "name": "stdout",
          "text": [
            "Collecting git+https://github.com/daviddavo/lightfm\n",
            "  Cloning https://github.com/daviddavo/lightfm to /tmp/pip-req-build-sgtrazr0\n",
            "  Running command git clone --filter=blob:none --quiet https://github.com/daviddavo/lightfm /tmp/pip-req-build-sgtrazr0\n",
            "  Resolved https://github.com/daviddavo/lightfm to commit f0eb500ead54ab65eb8e1b3890337a7223a35114\n",
            "  Preparing metadata (setup.py) ... \u001b[?25l\u001b[?25hdone\n",
            "Requirement already satisfied: numpy in /usr/local/lib/python3.12/dist-packages (from lightfm==1.17) (2.0.2)\n",
            "Requirement already satisfied: scipy>=0.17.0 in /usr/local/lib/python3.12/dist-packages (from lightfm==1.17) (1.16.1)\n",
            "Requirement already satisfied: requests in /usr/local/lib/python3.12/dist-packages (from lightfm==1.17) (2.32.4)\n",
            "Requirement already satisfied: scikit-learn in /usr/local/lib/python3.12/dist-packages (from lightfm==1.17) (1.6.1)\n",
            "Requirement already satisfied: charset_normalizer<4,>=2 in /usr/local/lib/python3.12/dist-packages (from requests->lightfm==1.17) (3.4.3)\n",
            "Requirement already satisfied: idna<4,>=2.5 in /usr/local/lib/python3.12/dist-packages (from requests->lightfm==1.17) (3.10)\n",
            "Requirement already satisfied: urllib3<3,>=1.21.1 in /usr/local/lib/python3.12/dist-packages (from requests->lightfm==1.17) (2.5.0)\n",
            "Requirement already satisfied: certifi>=2017.4.17 in /usr/local/lib/python3.12/dist-packages (from requests->lightfm==1.17) (2025.8.3)\n",
            "Requirement already satisfied: joblib>=1.2.0 in /usr/local/lib/python3.12/dist-packages (from scikit-learn->lightfm==1.17) (1.5.2)\n",
            "Requirement already satisfied: threadpoolctl>=3.1.0 in /usr/local/lib/python3.12/dist-packages (from scikit-learn->lightfm==1.17) (3.6.0)\n",
            "Building wheels for collected packages: lightfm\n",
            "  Building wheel for lightfm (setup.py) ... \u001b[?25l\u001b[?25hdone\n",
            "  Created wheel for lightfm: filename=lightfm-1.17-cp312-cp312-linux_x86_64.whl size=1100852 sha256=f0ff6954e0dcab4bfa90a747a8028860c53b596e02b7d320c9e788f487c6889c\n",
            "  Stored in directory: /tmp/pip-ephem-wheel-cache-psxo_dca/wheels/fd/89/93/70c1e5f378ee5043de89387ee3ef6852ff39e3b9eb44ecc1a3\n",
            "Successfully built lightfm\n",
            "Installing collected packages: lightfm\n",
            "Successfully installed lightfm-1.17\n"
          ]
        }
      ]
    },
    {
      "cell_type": "markdown",
      "source": [
        "# ⚙️ Optimisation des Hyperparamètres\n",
        "**Objectif :** Améliorer performances via hyperparameter tuning\n",
        "- Grid search systématique\n",
        "- Validation croisée temporelle\n",
        "- Sélection configuration optimale\n",
        "\n",
        "---"
      ],
      "metadata": {
        "id": "keuknnuQD_vH"
      }
    },
    {
      "cell_type": "markdown",
      "source": [
        "## 📁 CHARGEMENT ET SETUP\n"
      ],
      "metadata": {
        "id": "vXQU4UqvTYi_"
      }
    },
    {
      "cell_type": "code",
      "source": [
        "import pickle\n",
        "import pandas as pd\n",
        "import numpy as np\n",
        "import matplotlib.pyplot as plt\n",
        "from lightfm import LightFM\n",
        "from lightfm.evaluation import precision_at_k, recall_at_k, auc_score\n",
        "from itertools import product\n",
        "import time\n",
        "from tqdm import tqdm\n",
        "import warnings\n",
        "warnings.filterwarnings('ignore')\n",
        "\n",
        "\n",
        "# Redéfinir IDMapper pour le déchargement pickle\n",
        "class IDMapper:\n",
        "    \"\"\"Classe pour mapper IDs vers entiers et vice-versa\"\"\"\n",
        "\n",
        "    def __init__(self, ids):\n",
        "        self.id_to_idx = {id_val: idx for idx, id_val in enumerate(sorted(ids))}\n",
        "        self.idx_to_id = {idx: id_val for id_val, idx in self.id_to_idx.items()}\n",
        "        self.n_items = len(self.id_to_idx)\n",
        "\n",
        "    def map_to_idx(self, ids):\n",
        "        return [self.id_to_idx.get(id_val, -1) for id_val in ids]\n",
        "\n",
        "    def map_to_id(self, indices):\n",
        "        return [self.idx_to_id.get(idx, None) for idx in indices]\n",
        "\n",
        "# Chargement données\n",
        "with open(f\"{OUTPUTS_PATH}/prepared_data.pkl\", \"rb\") as f:\n",
        "    data = pickle.load(f)\n",
        "\n",
        "train_matrix = data['matrices']['train']\n",
        "test_matrix = data['matrices']['test']\n",
        "\n",
        "with open(f\"{OUTPUTS_PATH}/collaborative_model_results.pkl\", \"rb\") as f:\n",
        "    baseline = pickle.load(f)\n",
        "\n",
        "baseline_score = baseline['metrics']['test_precision@10']\n",
        "\n",
        "print(f\"✅ Baseline Precision@10: {baseline_score:.4f}\")"
      ],
      "metadata": {
        "id": "qtlvVg-iTdEp"
      },
      "execution_count": null,
      "outputs": []
    },
    {
      "cell_type": "markdown",
      "source": [
        "## 🎯 DÉFINITION GRILLE HYPERPARAMÈTRES\n"
      ],
      "metadata": {
        "id": "GtqU16dlTezm"
      }
    },
    {
      "cell_type": "code",
      "source": [
        "print(\"\\n⚙️ Configuration grid search...\")\n",
        "\n",
        "# Grille paramètres\n",
        "param_grid = {\n",
        "    'no_components': [20, 30, 50, 80],\n",
        "    'learning_rate': [0.01, 0.05, 0.1],\n",
        "    'item_alpha': [0.0, 1e-6, 1e-4],\n",
        "    'user_alpha': [0.0, 1e-6, 1e-4]\n",
        "}\n",
        "\n",
        "best_loss = baseline['best_loss']\n",
        "total_combinations = np.prod([len(v) for v in param_grid.values()])\n",
        "\n",
        "print(f\"🔧 Loss function: {best_loss}\")\n",
        "print(f\"🎯 Combinaisons à tester: {total_combinations}\")"
      ],
      "metadata": {
        "id": "k1du48sYTmUa"
      },
      "execution_count": null,
      "outputs": []
    },
    {
      "cell_type": "markdown",
      "source": [
        "## 🔄 VALIDATION CROISÉE TEMPORELLE\n"
      ],
      "metadata": {
        "id": "uYsq-uEDUF4r"
      }
    },
    {
      "cell_type": "code",
      "source": [
        "\n",
        "def temporal_cross_validation(train_data, n_folds=3):\n",
        "    \"\"\"Split temporel en n folds\"\"\"\n",
        "    train_df = data['dataframes']['train_df'].copy()\n",
        "    train_df = train_df.sort_values('t_dat')\n",
        "\n",
        "    fold_size = len(train_df) // n_folds\n",
        "    folds = []\n",
        "\n",
        "    for i in range(n_folds):\n",
        "        if i < n_folds - 1:\n",
        "            val_start = (i + 1) * fold_size\n",
        "            val_end = (i + 2) * fold_size\n",
        "        else:\n",
        "            val_start = (i + 1) * fold_size\n",
        "            val_end = len(train_df)\n",
        "\n",
        "        train_fold = train_df.iloc[:val_start]\n",
        "        val_fold = train_df.iloc[val_start:val_end]\n",
        "\n",
        "        folds.append((train_fold, val_fold))\n",
        "\n",
        "    return folds\n",
        "\n",
        "def df_to_matrix(df, n_users, n_items):\n",
        "    \"\"\"Convert DataFrame to sparse matrix\"\"\"\n",
        "    from scipy.sparse import coo_matrix\n",
        "    data_vals = np.ones(len(df))\n",
        "    matrix = coo_matrix((data_vals, (df['user_idx'], df['item_idx'])),\n",
        "                        shape=(n_users, n_items))\n",
        "    return matrix.tocsr()\n",
        "\n",
        "# Création folds\n",
        "cv_folds = temporal_cross_validation(train_matrix)\n",
        "n_users, n_items = train_matrix.shape\n",
        "\n",
        "print(f\"✅ {len(cv_folds)} folds créés\")"
      ],
      "metadata": {
        "id": "s-p3jo4uUL9U"
      },
      "execution_count": null,
      "outputs": []
    },
    {
      "cell_type": "markdown",
      "source": [
        "## 🔍 GRID SEARCH\n"
      ],
      "metadata": {
        "id": "5vIAX45oUN7Y"
      }
    },
    {
      "cell_type": "code",
      "source": [
        "print(\"\\n🔍 Démarrage grid search...\")\n",
        "\n",
        "results = []\n",
        "param_combinations = list(product(*param_grid.values()))\n",
        "\n",
        "for i, params in enumerate(tqdm(param_combinations, desc=\"Grid Search\")):\n",
        "    no_comp, lr, item_a, user_a = params\n",
        "\n",
        "    cv_scores = []\n",
        "\n",
        "    # Cross-validation\n",
        "    for train_fold_df, val_fold_df in cv_folds:\n",
        "        try:\n",
        "            # Matrices\n",
        "            train_fold_matrix = df_to_matrix(train_fold_df, n_users, n_items)\n",
        "            val_fold_matrix = df_to_matrix(val_fold_df, n_users, n_items)\n",
        "\n",
        "            # Modèle\n",
        "            model = LightFM(\n",
        "                loss=best_loss,\n",
        "                no_components=no_comp,\n",
        "                learning_rate=lr,\n",
        "                item_alpha=item_a,\n",
        "                user_alpha=user_a,\n",
        "                random_state=42\n",
        "            )\n",
        "\n",
        "            # Entraînement\n",
        "            model.fit(train_fold_matrix, epochs=15, num_threads=2, verbose=False)\n",
        "\n",
        "            # Évaluation\n",
        "            score = precision_at_k(model, val_fold_matrix, k=10,\n",
        "                                 train_interactions=train_fold_matrix).mean()\n",
        "            cv_scores.append(score)\n",
        "\n",
        "        except Exception as e:\n",
        "            cv_scores.append(0.0)\n",
        "\n",
        "    # Résultat\n",
        "    mean_score = np.mean(cv_scores)\n",
        "    std_score = np.std(cv_scores)\n",
        "\n",
        "    results.append({\n",
        "        'no_components': no_comp,\n",
        "        'learning_rate': lr,\n",
        "        'item_alpha': item_a,\n",
        "        'user_alpha': user_a,\n",
        "        'cv_score_mean': mean_score,\n",
        "        'cv_score_std': std_score\n",
        "    })\n",
        "\n",
        "# DataFrame résultats\n",
        "results_df = pd.DataFrame(results)\n",
        "results_df = results_df.sort_values('cv_score_mean', ascending=False)\n",
        "\n",
        "print(f\"✅ Grid search terminé\")"
      ],
      "metadata": {
        "id": "iD0DH_u1UVCc"
      },
      "execution_count": null,
      "outputs": []
    },
    {
      "cell_type": "markdown",
      "source": [
        "## 🏆 SÉLECTION MEILLEUR MODÈLE\n"
      ],
      "metadata": {
        "id": "2-HwXCILUYyn"
      }
    },
    {
      "cell_type": "code",
      "source": [
        "print(\"\\n🏆 Sélection configuration optimale...\")\n",
        "\n",
        "best_params = results_df.iloc[0]\n",
        "print(f\"\\nMeilleure configuration:\")\n",
        "for param in ['no_components', 'learning_rate', 'item_alpha', 'user_alpha']:\n",
        "    print(f\"   {param}: {best_params[param]}\")\n",
        "print(f\"   CV Score: {best_params['cv_score_mean']:.4f} ± {best_params['cv_score_std']:.4f}\")\n",
        "\n",
        "# Entraînement modèle final\n",
        "optimal_model = LightFM(\n",
        "    loss=best_loss,\n",
        "    no_components=int(best_params['no_components']),\n",
        "    learning_rate=best_params['learning_rate'],\n",
        "    item_alpha=best_params['item_alpha'],\n",
        "    user_alpha=best_params['user_alpha'],\n",
        "    random_state=42\n",
        ")\n",
        "\n",
        "print(\"\\n🚂 Entraînement modèle optimisé...\")\n",
        "optimal_model.fit(train_matrix, epochs=20, num_threads=2, verbose=True)\n"
      ],
      "metadata": {
        "id": "3qcPyrCNUdol"
      },
      "execution_count": null,
      "outputs": []
    },
    {
      "cell_type": "markdown",
      "source": [
        "## 📊 ÉVALUATION FINALE"
      ],
      "metadata": {
        "id": "emjCGfqQUfp7"
      }
    },
    {
      "cell_type": "code",
      "source": [
        "print(\"\\n📊 Évaluation modèle optimisé...\")\n",
        "\n",
        "def evaluate_model(model, train_interactions, test_interactions):\n",
        "    return {\n",
        "        'test_precision@5': precision_at_k(model, test_interactions, k=5, train_interactions=train_interactions).mean(),\n",
        "        'test_precision@10': precision_at_k(model, test_interactions, k=10, train_interactions=train_interactions).mean(),\n",
        "        'test_precision@20': precision_at_k(model, test_interactions, k=20, train_interactions=train_interactions).mean(),\n",
        "        'test_recall@10': recall_at_k(model, test_interactions, k=10, train_interactions=train_interactions).mean(),\n",
        "        'test_auc': auc_score(model, test_interactions, train_interactions=train_interactions).mean()\n",
        "    }\n",
        "\n",
        "optimized_metrics = evaluate_model(optimal_model, train_matrix, test_matrix)\n",
        "\n",
        "print(\"\\n📈 Amélioration performances:\")\n",
        "print(f\"Baseline Precision@10: {baseline_score:.4f}\")\n",
        "print(f\"Optimisé Precision@10: {optimized_metrics['test_precision@10']:.4f}\")\n",
        "print(f\"Gain: {((optimized_metrics['test_precision@10'] / baseline_score) - 1) * 100:.1f}%\")"
      ],
      "metadata": {
        "id": "VwL0kcdAUktz"
      },
      "execution_count": null,
      "outputs": []
    },
    {
      "cell_type": "markdown",
      "source": [
        "## 📊 VISUALISATIONS\n"
      ],
      "metadata": {
        "id": "xsw-QH7uUnfH"
      }
    },
    {
      "cell_type": "code",
      "source": [
        "fig, axes = plt.subplots(2, 2, figsize=(15, 10))\n",
        "\n",
        "# 1. Top 10 configurations\n",
        "top_10 = results_df.head(10)\n",
        "axes[0,0].barh(range(len(top_10)), top_10['cv_score_mean'])\n",
        "axes[0,0].set_yticks(range(len(top_10)))\n",
        "axes[0,0].set_yticklabels([f\"Config {i+1}\" for i in range(len(top_10))])\n",
        "axes[0,0].set_title('Top 10 Configurations')\n",
        "axes[0,0].set_xlabel('CV Score')\n",
        "\n",
        "# 2. Impact no_components\n",
        "comp_analysis = results_df.groupby('no_components')['cv_score_mean'].agg(['mean', 'std'])\n",
        "axes[0,1].errorbar(comp_analysis.index, comp_analysis['mean'], yerr=comp_analysis['std'], marker='o')\n",
        "axes[0,1].set_title('Impact no_components')\n",
        "axes[0,1].set_xlabel('No Components')\n",
        "axes[0,1].set_ylabel('CV Score')\n",
        "\n",
        "# 3. Impact learning_rate\n",
        "lr_analysis = results_df.groupby('learning_rate')['cv_score_mean'].agg(['mean', 'std'])\n",
        "axes[1,0].errorbar(lr_analysis.index, lr_analysis['mean'], yerr=lr_analysis['std'], marker='s')\n",
        "axes[1,0].set_title('Impact Learning Rate')\n",
        "axes[1,0].set_xlabel('Learning Rate')\n",
        "axes[1,0].set_ylabel('CV Score')\n",
        "\n",
        "# 4. Comparaison baseline vs optimisé\n",
        "metrics_comparison = pd.DataFrame({\n",
        "    'Baseline': [baseline['metrics']['test_precision@10'], baseline['metrics']['test_auc']],\n",
        "    'Optimisé': [optimized_metrics['test_precision@10'], optimized_metrics['test_auc']]\n",
        "}, index=['Precision@10', 'AUC'])\n",
        "\n",
        "metrics_comparison.plot(kind='bar', ax=axes[1,1])\n",
        "axes[1,1].set_title('Baseline vs Optimisé')\n",
        "axes[1,1].set_ylabel('Score')\n",
        "axes[1,1].tick_params(axis='x', rotation=0)\n",
        "\n",
        "plt.tight_layout()\n",
        "plt.savefig(f\"{OUTPUTS_PATH}/figures/hyperparameter_optimization.png\", dpi=300, bbox_inches='tight')\n",
        "plt.show()"
      ],
      "metadata": {
        "id": "toPzszXPUsPt"
      },
      "execution_count": null,
      "outputs": []
    },
    {
      "cell_type": "markdown",
      "source": [
        "## 💾 SAUVEGARDE"
      ],
      "metadata": {
        "id": "zEupyUmDUuBa"
      }
    },
    {
      "cell_type": "code",
      "source": [
        "optimization_results = {\n",
        "    'optimized_model': optimal_model,\n",
        "    'best_params': dict(best_params),\n",
        "    'optimized_metrics': optimized_metrics,\n",
        "    'grid_search_results': results_df,\n",
        "    'improvement': {\n",
        "        'baseline_precision@10': baseline_score,\n",
        "        'optimized_precision@10': optimized_metrics['test_precision@10'],\n",
        "        'relative_gain': ((optimized_metrics['test_precision@10'] / baseline_score) - 1) * 100\n",
        "    },\n",
        "    'metadata': {\n",
        "        'total_combinations_tested': len(results_df),\n",
        "        'cv_folds': len(cv_folds),\n",
        "        'optimization_date': time.strftime('%Y-%m-%d %H:%M:%S')\n",
        "    }\n",
        "}\n",
        "\n",
        "with open(f\"{OUTPUTS_PATH}/optimization_results.pkl\", \"wb\") as f:\n",
        "    pickle.dump(optimization_results, f)\n",
        "\n",
        "print(f\"\\n✅ Résultats sauvegardés\")"
      ],
      "metadata": {
        "id": "r9T6blKKUzuL"
      },
      "execution_count": null,
      "outputs": []
    },
    {
      "cell_type": "markdown",
      "source": [
        "## 🎯 RÉSUMÉ\n"
      ],
      "metadata": {
        "id": "uL0CrbTDU2Iy"
      }
    },
    {
      "cell_type": "code",
      "source": [
        "print(\"\\n\" + \"=\"*60)\n",
        "print(\"🎯 OPTIMISATION TERMINÉE\")\n",
        "print(\"=\"*60)\n",
        "\n",
        "print(f\"\\n🏆 MEILLEURE CONFIG:\")\n",
        "print(f\"   Components: {int(best_params['no_components'])}\")\n",
        "print(f\"   Learning Rate: {best_params['learning_rate']}\")\n",
        "print(f\"   Regularization: item={best_params['item_alpha']}, user={best_params['user_alpha']}\")\n",
        "\n",
        "print(f\"\\n📈 GAIN PERFORMANCE:\")\n",
        "print(f\"   Precision@10: {baseline_score:.4f} → {optimized_metrics['test_precision@10']:.4f}\")\n",
        "print(f\"   Amélioration: +{((optimized_metrics['test_precision@10'] / baseline_score) - 1) * 100:.1f}%\")\n",
        "\n",
        "print(f\"\\n🚀 PRÊT POUR: Évaluation approfondie et modèle hybride\")\n",
        "print(\"=\"*60)"
      ],
      "metadata": {
        "colab": {
          "base_uri": "https://localhost:8080/",
          "height": 1000
        },
        "id": "GJr-WUTBDbT6",
        "outputId": "75e593b6-193a-4d5f-8927-ea0c31dc0f5b"
      },
      "execution_count": 3,
      "outputs": [
        {
          "output_type": "stream",
          "name": "stdout",
          "text": [
            "✅ Baseline Precision@10: 0.0006\n",
            "\n",
            "⚙️ Configuration grid search...\n",
            "🔧 Loss function: logistic\n",
            "🎯 Combinaisons à tester: 108\n",
            "✅ 3 folds créés\n",
            "\n",
            "🔍 Démarrage grid search...\n"
          ]
        },
        {
          "output_type": "stream",
          "name": "stderr",
          "text": [
            "Grid Search: 100%|██████████| 108/108 [42:20<00:00, 23.52s/it]\n"
          ]
        },
        {
          "output_type": "stream",
          "name": "stdout",
          "text": [
            "✅ Grid search terminé\n",
            "\n",
            "🏆 Sélection configuration optimale...\n",
            "\n",
            "Meilleure configuration:\n",
            "   no_components: 20.0\n",
            "   learning_rate: 0.01\n",
            "   item_alpha: 0.0\n",
            "   user_alpha: 0.0\n",
            "   CV Score: nan ± nan\n",
            "\n",
            "🚂 Entraînement modèle optimisé...\n"
          ]
        },
        {
          "output_type": "stream",
          "name": "stderr",
          "text": [
            "Epoch: 100%|██████████| 20/20 [00:01<00:00, 17.48it/s]\n"
          ]
        },
        {
          "output_type": "stream",
          "name": "stdout",
          "text": [
            "\n",
            "📊 Évaluation modèle optimisé...\n",
            "\n",
            "📈 Amélioration performances:\n",
            "Baseline Precision@10: 0.0006\n",
            "Optimisé Precision@10: 0.0006\n",
            "Gain: 0.0%\n"
          ]
        },
        {
          "output_type": "display_data",
          "data": {
            "text/plain": [
              "<Figure size 1500x1000 with 4 Axes>"
            ],
            "image/png": "[encoded data removed]"
          },
          "metadata": {}
        },
        {
          "output_type": "stream",
          "name": "stdout",
          "text": [
            "\n",
            "✅ Résultats sauvegardés\n",
            "\n",
            "============================================================\n",
            "🎯 OPTIMISATION TERMINÉE\n",
            "============================================================\n",
            "\n",
            "🏆 MEILLEURE CONFIG:\n",
            "   Components: 20\n",
            "   Learning Rate: 0.01\n",
            "   Regularization: item=0.0, user=0.0\n",
            "\n",
            "📈 GAIN PERFORMANCE:\n",
            "   Precision@10: 0.0006 → 0.0006\n",
            "   Amélioration: +0.0%\n",
            "\n",
            "🚀 PRÊT POUR: Évaluation approfondie et modèle hybride\n",
            "============================================================\n"
          ]
        }
      ]
    }
  ]
}